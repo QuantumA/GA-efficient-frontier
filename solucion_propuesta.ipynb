{
 "cells": [
  {
   "cell_type": "markdown",
   "source": [
    "### Optimización de carteras con algorítmo genético.\n",
    "\n",
    "## Configuración del problema:\n",
    "Se encuentra en el archivo `main/config/problem_config.py`\n",
    "\n",
    "Allí se pueden encontrar valores de configuración tales como el máximo número de generaciones, número de individuos, etc.\n",
    "\n",
    "## Individuos:\n",
    "Son representados mediante la clase Individual disponible en: `main/individual/individual.py`\n",
    "\n",
    "## Tiempo de ejecución aproximado: 5 minutos.\n",
    "\n",
    "## Requisitos:\n",
    "\n",
    "**1. Frontera eficiente: en la raíz del entregable llamada frontera_eficiente.png**\n",
    "\n",
    "**2. Tiempo de ejecución menor a 10 minutos**\n",
    "\n",
    "\n",
    "## Preguntas a resolver:\n",
    "\n",
    "**1. Funcion objetivo a resolver:**\n",
    "En mi caso la función objetivo es el ratio de sharpe, al tratarse de un problema multi objetivo (maximizar retorno y minimizar riesgo) se puede utilizar como función objetivo el ratio de sharpe.\n",
    "\n",
    "**2. Los inversores (cromosomas) deben poder generar carteras con un número variable de activos. Estableceremos el mínimo en 1 activo y 20 en el máximo. El número de activos debe poder modificarse entre generaciones, sin caer en extremos (que siempre salgan carteras de 1 activo o de 20). Debemos pensar un sistema coherente, para resolver este punto.**\n",
    "\n",
    "Las carteras son representadas mediante la clase Individual y una población de individuos representa un conjunto de carteras o soluciones. Cada cartera del individuo se genera mediante dos vectores de longitud variable entre 1 y 20, uno contiene índices de activos en el universo de activos y el otro contiene los pesos de dichos activos.\n",
    "\n",
    "**3. ¿Cómo va a heredar el hijo la información genética de los padres? Aquí tenemos un triple problema a resolver (argumenta la solución a estos tres puntos con todo lujo de detalles)**\n",
    "\n",
    "> **a. ¿Cuál es el número de activos que hereda un hijo de dos padres? Si un padre tiene 5 activos y el otro 7 (distintos entre sí), ¿cuántos activos tendrá el hijo? Debemos pensar en el punto primero. El hijo no puede tener un número de activos creciente en cada generación. El sistema tiene que ser dinámico, creciente y decreciente, respetando los límites de 1 y 20.**\n",
    "\n",
    ">Entre generaciones el número de activos de cada individuo será variable, para ello trabajaré en módulo 20 de tal forma que 20 será el número máximo de activos que puede tener un individuo mientras que el mínimo será 1. Mi método de cruce evita que las carteras resultantes caigan en mínimos o máximos (1 o 20 activos) constantemente. Como ejemplo, si dos padres tienen 14 y 17 activos respectivamente al trabajar en módulo 20 su descendencia tendrá 11 activos mientras que si dos padres tienen 2 y 3 activos respectivamente su descendencia tendrá 5 de esos activos. La descendencia también hereda los pesos de los activos de los padres de esta forma me aseguro de que nunca sumen más de 1. Si dos padres tienen el mismo activo y este ha sido seleccionado para la descendencia, este activo no se hereda dos veces, sino que se suman los pesos y se hereda una vez solo, de esta forma evitamos que la decendencia tenga varios activos repetidos.\n",
    "\n",
    ">**b.\t¿Qué porcentaje de inversión hereda cada activo para que sume 100%? Debemos permitir la construcción de carteras donde unos pocos activos (1 o 2) se lleven un porcentaje muy elevado del capital disponible, para explorar todas las soluciones. Reescalar los pesos no es una solución aceptable.**\n",
    "\n",
    "> Cuando un descendiente hereda los activos de los padres, hereda también los pesos siguiendo la siguiente ecuación:\n",
    "> \n",
    "> Descendiente A = α ∗ Padre1 + (1 −α) ∗ Padre2\n",
    "> \n",
    "> Descendiente B = (1 −α) ∗ Padre1 + α ∗ Padre2\n",
    "> \n",
    "> Donde α es un número aleatorio entre 0 y 1.\n",
    "> \n",
    "> De esta manera hay individuos que pueden tener pocos activos con gran porcentaje de capital acumulado.\n",
    ">\n",
    "> Esta función puede consultarse en: `main/tools/toolbox.arithmetic_roulette_crossover`\n",
    "\n",
    "\n",
    ">**c.\tLa evolución, en este problema, no puede limitarse a selección y cruzamiento o caeremos rápidamente en un mínimo local. Debemos encontrar un sistema que equilibre la selección con la exploración, si queremos encontrar la cartera óptima. ¿Qué se te ocurre?**\n",
    ">\n",
    "> Efectivamente si nos limitamos a selección y cruce caeremos en un mínimo local, ya que no estamos añadiendo diversidad a nuestras poblaciones. Esto hace que nuestro problema se centre en obtener una alta explotación dejando de lado a la exploración. Para solventar esto añado diversidad en dos puntos, la selección y la mutación. En la mutación selecciono un número aleatorio de activos del individuo y los sustituyo por el mismo número de activos del universo de activos de tal forma que el individuo mutado siempre tiene el mismo número de activos y añado diversidad a la población. La probabilidad de mutación será variable en cada generación de tal forma que en unas generaciones se premiará la exploración mientras que otras se centrarán en la explotación del subespacio de soluciones actual. Si los individuos mutados no tienen un mejor grado de adaptación que el mejor individuo, son descartados.\n",
    ">\n",
    "> La función de mutación puede consultarse en: `main/tools/toolbox.mutation_stocks_fitness_driven`\n",
    "\n",
    "**4. ¿Cómo vas a realizar el reemplazo generacional?**\n",
    "> Se utilizará selección proporcional por ranking con elitismo y reemplazo migratorio.\n",
    "> Este tipo de selección asigna una probabilidad a cada individuo de ser seleccionado en función de su función fitness, esto permite que los individuos mejor adaptados tengas más posibilidades de ser seleccionados y por tanto estén más presentes en la siguiente generación mientras que los individuos peor adaptados tienen menos posibilidades de ser seleccionados, por otro lado, al ser elite driven, escoge al n% mejor adaptado (10% en mi solución) y los añade a la siguiente generación para asegurar que los mejores estarán en la siguiente generación. De las plazas restantes otro porcentaje se asigna a reemplazo migratorio, donde nuevos individuos son incorporados a la selección favoreciendo así una mayor diversidad y por tanto mayor exploración.\n",
    "> En mi solucion la selección se compone de:\n",
    "> \n",
    "> Un 10% de plazas reservadas a los mejores individuos.\n",
    ">\n",
    "> Un 20% de plazas reservadas a individuos rankeados por fitness.\n",
    ">\n",
    "> Un 70% de plazas reservadas a nuevos individuos.\n",
    "\n",
    "> Esta función puede consultarse en: `main/tools/toolbox.selection_rank_with_population_replacement_elite`\n",
    "\n",
    "**5. Condición de parada**\n",
    "Se ha definido como condición de parada alcanzar el máximo de generaciones definidas o encontrar una solución lo suficientemente buena para nuestro problema. Recordemos que los algoritmos genéticos no buscan encontrar una solución óptima, buscan encontrar una solución lo suficientemente buena en un tiempo aceptable.\n"
   ],
   "metadata": {
    "collapsed": false,
    "pycharm": {
     "name": "#%% md\n"
    }
   }
  },
  {
   "cell_type": "code",
   "execution_count": 39,
   "outputs": [],
   "source": [
    "import matplotlib.pyplot as plt\n",
    "import pandas as pd\n",
    "import random\n",
    "\n",
    "from main.config.problem_config import (\n",
    "    CROSSOVER_PROBABILITY,\n",
    "    MAX_GENERATIONS,\n",
    "    POPULATION_SIZE,\n",
    "    ELITE_SIZE,\n",
    "    MIGRATORY_FACTOR,\n",
    "    ACCEPTABLE_RETURN,\n",
    "    ACCEPTABLE_RISK\n",
    ")\n",
    "from main.individual.individual import Individual\n",
    "from main.tools.toolbox import (\n",
    "    arithmetic_roulette_crossover,\n",
    "    crossover_operation,\n",
    "    mutation_operation,\n",
    "    mutation_stocks_fitness_driven,\n",
    "    plot_stats,\n",
    "    selection_rank_with_population_replacement_elite,\n",
    "    stats,\n",
    ")"
   ],
   "metadata": {
    "collapsed": false,
    "pycharm": {
     "name": "#%%\n"
    }
   }
  },
  {
   "cell_type": "code",
   "execution_count": 40,
   "outputs": [],
   "source": [
    "CROSSOVER_METHOD = arithmetic_roulette_crossover\n",
    "MUTATION_METHOD = mutation_stocks_fitness_driven"
   ],
   "metadata": {
    "collapsed": false,
    "pycharm": {
     "name": "#%%\n"
    }
   }
  },
  {
   "cell_type": "code",
   "execution_count": 41,
   "outputs": [
    {
     "name": "stderr",
     "output_type": "stream",
     "text": [
      "/tmp/ipykernel_931818/677347695.py:2: FutureWarning: Dropping of nuisance columns in DataFrame reductions (with 'numeric_only=None') is deprecated; in a future version this will raise TypeError.  Select only valid columns before calling the reduction.\n",
      "  universo.drop(universo.std()[(universo.std() < 0.1)].index, axis=1, inplace=True)\n"
     ]
    }
   ],
   "source": [
    "universo = pd.read_csv(\"data/all_funds_universe.csv\")\n",
    "universo.drop(universo.std()[(universo.std() < 0.1)].index, axis=1, inplace=True)\n",
    "Individual.set_stock_universe(universe=universo)\n",
    "\n",
    "historical_inds = []\n",
    "first_population = [Individual.create_random() for _ in range(POPULATION_SIZE)]\n",
    "historical_inds.extend(first_population)\n",
    "population = first_population.copy()\n",
    "\n",
    "fitness_list = list(map(lambda x: x.get_sharpe(), population))\n",
    "fit_avg = [sum(fitness_list) / len(population)]\n",
    "fit_best = [max(fitness_list)]\n",
    "fit_best_ever = [max(fitness_list + fit_best)]\n",
    "\n",
    "best_ind = max(population, key=lambda ind: ind.get_sharpe())\n",
    "\n",
    "generation = 0\n",
    "expected_ret = 0\n",
    "risk = 1"
   ],
   "metadata": {
    "collapsed": false,
    "pycharm": {
     "name": "#%%\n"
    }
   }
  },
  {
   "cell_type": "code",
   "execution_count": 42,
   "outputs": [
    {
     "name": "stdout",
     "output_type": "stream",
     "text": [
      "GENERATION: 1 BEST: 0.16543119223990713\n",
      "GENERATION: 2 BEST: 0.24117079103107192\n",
      "GENERATION: 3 BEST: 0.2574553473161267\n",
      "GENERATION: 4 BEST: 0.2574553473161267\n",
      "GENERATION: 5 BEST: 0.5103141435209133\n",
      "GENERATION: 6 BEST: 0.5103141435209133\n",
      "GENERATION: 7 BEST: 0.5103141435209133\n",
      "GENERATION: 8 BEST: 0.5103141435209133\n",
      "GENERATION: 9 BEST: 0.5498610166377691\n",
      "GENERATION: 10 BEST: 0.5498610166377691\n",
      "GENERATION: 11 BEST: 0.5498610166377691\n",
      "GENERATION: 12 BEST: 0.5649925945765188\n",
      "GENERATION: 13 BEST: 0.5649925945765188\n",
      "GENERATION: 14 BEST: 0.5649925945765188\n",
      "GENERATION: 15 BEST: 0.5649925945765188\n",
      "GENERATION: 16 BEST: 0.5649925945765188\n",
      "GENERATION: 17 BEST: 0.5649925945765188\n",
      "GENERATION: 18 BEST: 0.5649925945765188\n",
      "GENERATION: 19 BEST: 0.5817403128020157\n",
      "GENERATION: 20 BEST: 0.5845747016698954\n",
      "GENERATION: 21 BEST: 0.5845747016698954\n",
      "GENERATION: 22 BEST: 0.5845747016698954\n",
      "GENERATION: 23 BEST: 0.5845747016698954\n",
      "GENERATION: 24 BEST: 0.5845747016698954\n",
      "GENERATION: 25 BEST: 0.6333835139705676\n",
      "GENERATION: 26 BEST: 0.6333835139705676\n",
      "GENERATION: 27 BEST: 0.6333835139705676\n",
      "GENERATION: 28 BEST: 0.6333835139705676\n",
      "GENERATION: 29 BEST: 0.6333835139705676\n",
      "GENERATION: 30 BEST: 0.6333835139705676\n",
      "GENERATION: 31 BEST: 0.9685276574938485\n",
      "GENERATION: 32 BEST: 1.08881381026627\n",
      "GENERATION: 33 BEST: 1.08881381026627\n",
      "GENERATION: 34 BEST: 1.08881381026627\n",
      "GENERATION: 35 BEST: 1.08881381026627\n",
      "GENERATION: 36 BEST: 1.08881381026627\n",
      "GENERATION: 37 BEST: 1.08881381026627\n",
      "GENERATION: 38 BEST: 1.1055302642429092\n",
      "GENERATION: 39 BEST: 1.1055302642429092\n",
      "GENERATION: 40 BEST: 1.1055302642429092\n"
     ]
    }
   ],
   "source": [
    "while (expected_ret < ACCEPTABLE_RETURN and risk > ACCEPTABLE_RISK) or generation < MAX_GENERATIONS:\n",
    "    mut_prob = random.random()\n",
    "\n",
    "    offspring = selection_rank_with_population_replacement_elite(population, elite_size=ELITE_SIZE, new_pop=MIGRATORY_FACTOR)\n",
    "\n",
    "    crossed_offspring = crossover_operation(population=offspring, method=CROSSOVER_METHOD, prob=CROSSOVER_PROBABILITY)\n",
    "    mutated_offspring = mutation_operation(population=crossed_offspring, method=MUTATION_METHOD, prob=mut_prob)\n",
    "\n",
    "    population = crossed_offspring.copy()\n",
    "    historical_inds.extend(population)\n",
    "\n",
    "    best_ind, fit_avg, fit_best, fit_best_ever = stats(population, best_ind, fit_avg, fit_best, fit_best_ever)\n",
    "    expected_ret = best_ind.expected_return()\n",
    "    risk = best_ind.risk()\n",
    "    \n",
    "    generation += 1\n",
    "    print(f\"GENERATION: {generation} BEST: {best_ind.get_sharpe()}\")"
   ],
   "metadata": {
    "collapsed": false,
    "pycharm": {
     "name": "#%%\n"
    }
   }
  },
  {
   "cell_type": "code",
   "execution_count": 43,
   "outputs": [
    {
     "data": {
      "text/plain": "<Figure size 432x288 with 1 Axes>",
      "image/png": "[encoded data removed]"
     },
     "metadata": {
      "needs_background": "light"
     },
     "output_type": "display_data"
    }
   ],
   "source": [
    "plot_stats(fit_avg, fit_best_ever, \"Maximize Sharpe Ratio\")"
   ],
   "metadata": {
    "collapsed": false,
    "pycharm": {
     "name": "#%%\n"
    }
   }
  },
  {
   "cell_type": "code",
   "execution_count": 44,
   "outputs": [],
   "source": [
    "best_ret = max(historical_inds, key=lambda ind: ind.expected_return())\n",
    "low_risk = min(historical_inds, key=lambda ind: ind.risk())"
   ],
   "metadata": {
    "collapsed": false,
    "pycharm": {
     "name": "#%%\n"
    }
   }
  },
  {
   "cell_type": "markdown",
   "source": [
    "### BEST RETURN PORTFOLIO:"
   ],
   "metadata": {
    "collapsed": false,
    "pycharm": {
     "name": "#%% md\n"
    }
   }
  },
  {
   "cell_type": "code",
   "execution_count": 45,
   "outputs": [
    {
     "data": {
      "text/plain": "0.02171460758501857"
     },
     "execution_count": 45,
     "metadata": {},
     "output_type": "execute_result"
    }
   ],
   "source": [
    "best_ret.expected_return()"
   ],
   "metadata": {
    "collapsed": false,
    "pycharm": {
     "name": "#%%\n"
    }
   }
  },
  {
   "cell_type": "code",
   "execution_count": 46,
   "outputs": [
    {
     "data": {
      "text/plain": "array([['LU2191963938']], dtype=object)"
     },
     "execution_count": 46,
     "metadata": {},
     "output_type": "execute_result"
    }
   ],
   "source": [
    "best_ret.universe.columns[best_ret.portfolio_idx].values.reshape(1, len(best_ret.portfolio_idx))"
   ],
   "metadata": {
    "collapsed": false,
    "pycharm": {
     "name": "#%%\n"
    }
   }
  },
  {
   "cell_type": "code",
   "execution_count": 47,
   "outputs": [
    {
     "data": {
      "text/plain": "array([[1]])"
     },
     "execution_count": 47,
     "metadata": {},
     "output_type": "execute_result"
    }
   ],
   "source": [
    "best_ret.portfolio_weights.reshape(1, len(best_ret.portfolio_weights))"
   ],
   "metadata": {
    "collapsed": false,
    "pycharm": {
     "name": "#%%\n"
    }
   }
  },
  {
   "cell_type": "markdown",
   "source": [
    "### BEST SHARPE PORTFOLIO:"
   ],
   "metadata": {
    "collapsed": false,
    "pycharm": {
     "name": "#%% md\n"
    }
   }
  },
  {
   "cell_type": "code",
   "execution_count": 48,
   "outputs": [
    {
     "data": {
      "text/plain": "1.1055302642429092"
     },
     "execution_count": 48,
     "metadata": {},
     "output_type": "execute_result"
    }
   ],
   "source": [
    "best_ind.get_sharpe()"
   ],
   "metadata": {
    "collapsed": false,
    "pycharm": {
     "name": "#%%\n"
    }
   }
  },
  {
   "cell_type": "code",
   "execution_count": 49,
   "outputs": [
    {
     "data": {
      "text/plain": "Index(['LU1931926452', 'LU1504938546', 'LU1775947846', 'GB0007809600',\n       'LU1016219955', 'LU1799130890', 'IE0031294303', 'IE00BYX7RF96'],\n      dtype='object')"
     },
     "execution_count": 49,
     "metadata": {},
     "output_type": "execute_result"
    }
   ],
   "source": [
    "best_ind.universe.columns[best_ind.portfolio_idx]"
   ],
   "metadata": {
    "collapsed": false,
    "pycharm": {
     "name": "#%%\n"
    }
   }
  },
  {
   "cell_type": "code",
   "execution_count": 50,
   "outputs": [
    {
     "data": {
      "text/plain": "array([[1.60275949e-02, 2.17445641e-05, 1.30119534e-03, 7.67485960e-06,\n        5.97603804e-03, 3.20821999e-01, 6.55146631e-01, 6.97122501e-04]])"
     },
     "execution_count": 50,
     "metadata": {},
     "output_type": "execute_result"
    }
   ],
   "source": [
    "best_ind.portfolio_weights.reshape(1, len(best_ind.portfolio_weights))"
   ],
   "metadata": {
    "collapsed": false,
    "pycharm": {
     "name": "#%%\n"
    }
   }
  },
  {
   "cell_type": "markdown",
   "source": [
    "### LOWEST RISK PORFOLIO:"
   ],
   "metadata": {
    "collapsed": false,
    "pycharm": {
     "name": "#%% md\n"
    }
   }
  },
  {
   "cell_type": "code",
   "execution_count": 51,
   "outputs": [
    {
     "data": {
      "text/plain": "1.1678043510433323e-05"
     },
     "execution_count": 51,
     "metadata": {},
     "output_type": "execute_result"
    }
   ],
   "source": [
    "low_risk.risk()"
   ],
   "metadata": {
    "collapsed": false,
    "pycharm": {
     "name": "#%%\n"
    }
   }
  },
  {
   "cell_type": "code",
   "execution_count": 52,
   "outputs": [
    {
     "data": {
      "text/plain": "array([['FR0011408798']], dtype=object)"
     },
     "execution_count": 52,
     "metadata": {},
     "output_type": "execute_result"
    }
   ],
   "source": [
    "low_risk.universe.columns[low_risk.portfolio_idx].values.reshape(1, len(low_risk.portfolio_idx))"
   ],
   "metadata": {
    "collapsed": false,
    "pycharm": {
     "name": "#%%\n"
    }
   }
  },
  {
   "cell_type": "code",
   "execution_count": 53,
   "outputs": [
    {
     "data": {
      "text/plain": "array([[1.]])"
     },
     "execution_count": 53,
     "metadata": {},
     "output_type": "execute_result"
    }
   ],
   "source": [
    "low_risk.portfolio_weights.reshape(1, len(low_risk.portfolio_weights))"
   ],
   "metadata": {
    "collapsed": false,
    "pycharm": {
     "name": "#%%\n"
    }
   }
  },
  {
   "cell_type": "markdown",
   "source": [
    "### EFFICIENT FRONTIER:"
   ],
   "metadata": {
    "collapsed": false,
    "pycharm": {
     "name": "#%% md\n"
    }
   }
  },
  {
   "cell_type": "code",
   "execution_count": 54,
   "outputs": [
    {
     "data": {
      "text/plain": "<Figure size 1296x864 with 1 Axes>",
      "image/png": "[encoded data removed]"
     },
     "metadata": {
      "needs_background": "light"
     },
     "output_type": "display_data"
    }
   ],
   "source": [
    "ret = list(map(lambda x: x.expected_return(), historical_inds))\n",
    "risk = list(map(lambda x: x.risk(), historical_inds))\n",
    "\n",
    "fig, ax = plt.subplots(figsize=(18, 12))\n",
    "ax.plot(risk, ret, \".\")\n",
    "plt.show()"
   ],
   "metadata": {
    "collapsed": false,
    "pycharm": {
     "name": "#%%\n"
    }
   }
  }
 ],
 "metadata": {
  "kernelspec": {
   "display_name": "Python 3",
   "language": "python",
   "name": "python3"
  },
  "language_info": {
   "codemirror_mode": {
    "name": "ipython",
    "version": 2
   },
   "file_extension": ".py",
   "mimetype": "text/x-python",
   "name": "python",
   "nbconvert_exporter": "python",
   "pygments_lexer": "ipython2",
   "version": "2.7.6"
  }
 },
 "nbformat": 4,
 "nbformat_minor": 0
}