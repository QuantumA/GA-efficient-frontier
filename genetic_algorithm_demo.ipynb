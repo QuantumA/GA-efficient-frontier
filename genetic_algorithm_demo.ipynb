{
 "cells": [
  {
   "cell_type": "code",
   "execution_count": 36,
   "outputs": [],
   "source": [
    "import pandas as pd\n",
    "import random\n",
    "\n",
    "from main.config.problem_config import (\n",
    "    CROSSOVER_PROBABILITY,\n",
    "    MAX_GENERATIONS,\n",
    "    POPULATION_SIZE,\n",
    "    ELITE_SIZE,\n",
    "    MIGRATORY_FACTOR,\n",
    "    ACCEPTABLE_RETURN,\n",
    "    ACCEPTABLE_RISK\n",
    ")\n",
    "from main.individual.individual import Individual\n",
    "from main.tools.toolbox import (\n",
    "    arithmetic_roulette_crossover,\n",
    "    crossover_operation,\n",
    "    mutation_operation,\n",
    "    mutation_stocks_fitness_driven,\n",
    "    plot_stats,\n",
    "    selection_rank_with_population_replacement_elite,\n",
    "    stats,\n",
    "    plot_frontier,\n",
    ")"
   ],
   "metadata": {
    "collapsed": false,
    "pycharm": {
     "name": "#%%\n"
    }
   }
  },
  {
   "cell_type": "code",
   "execution_count": 37,
   "outputs": [],
   "source": [
    "CROSSOVER_METHOD = arithmetic_roulette_crossover\n",
    "MUTATION_METHOD = mutation_stocks_fitness_driven"
   ],
   "metadata": {
    "collapsed": false,
    "pycharm": {
     "name": "#%%\n"
    }
   }
  },
  {
   "cell_type": "code",
   "execution_count": 38,
   "outputs": [
    {
     "name": "stderr",
     "output_type": "stream",
     "text": [
      "/tmp/ipykernel_6019/981946720.py:2: FutureWarning: Dropping of nuisance columns in DataFrame reductions (with 'numeric_only=None') is deprecated; in a future version this will raise TypeError.  Select only valid columns before calling the reduction.\n",
      "  assets_universe.drop(assets_universe.std()[(assets_universe.std() < 0.1)].index, axis=1, inplace=True)\n"
     ]
    }
   ],
   "source": [
    "assets_universe = pd.read_csv(\"data/all_funds_universe.csv\")\n",
    "assets_universe.drop(assets_universe.std()[(assets_universe.std() < 0.1)].index, axis=1, inplace=True)\n",
    "Individual.set_stock_universe(universe=assets_universe)\n",
    "\n",
    "historical_inds = []\n",
    "first_population = [Individual.create_random() for _ in range(POPULATION_SIZE)]\n",
    "historical_inds.extend(first_population)\n",
    "population = first_population.copy()\n",
    "\n",
    "fitness_list = list(map(lambda x: x.get_sharpe(), population))\n",
    "fit_avg = [sum(fitness_list) / len(population)]\n",
    "fit_best = [max(fitness_list)]\n",
    "fit_best_ever = [max(fitness_list + fit_best)]\n",
    "\n",
    "best_ind = max(population, key=lambda ind: ind.get_sharpe())\n",
    "\n",
    "generation = 0\n",
    "expected_ret = 0\n",
    "risk = 1"
   ],
   "metadata": {
    "collapsed": false,
    "pycharm": {
     "name": "#%%\n"
    }
   }
  },
  {
   "cell_type": "code",
   "execution_count": 39,
   "outputs": [
    {
     "name": "stdout",
     "output_type": "stream",
     "text": [
      "GENERATION: 1 BEST: 0.16846764906370906\n",
      "GENERATION: 2 BEST: 0.16846764906370906\n",
      "GENERATION: 3 BEST: 0.177948845665899\n",
      "GENERATION: 4 BEST: 0.19331439427522717\n",
      "GENERATION: 5 BEST: 0.2326496434359034\n",
      "GENERATION: 6 BEST: 0.28432059650011604\n",
      "GENERATION: 7 BEST: 0.28432059650011604\n",
      "GENERATION: 8 BEST: 0.2971969882729634\n",
      "GENERATION: 9 BEST: 0.2971969882729634\n",
      "GENERATION: 10 BEST: 0.3066309571002625\n",
      "GENERATION: 11 BEST: 0.3066309571002625\n",
      "GENERATION: 12 BEST: 0.3066309571002625\n",
      "GENERATION: 13 BEST: 0.3066309571002625\n",
      "GENERATION: 14 BEST: 0.3066309571002625\n",
      "GENERATION: 15 BEST: 0.3220737191630981\n",
      "GENERATION: 16 BEST: 0.3220737191630981\n",
      "GENERATION: 17 BEST: 0.33777418642970397\n",
      "GENERATION: 18 BEST: 0.33777418642970397\n",
      "GENERATION: 19 BEST: 0.33777418642970397\n",
      "GENERATION: 20 BEST: 0.33777418642970397\n",
      "GENERATION: 21 BEST: 0.4213888280220988\n",
      "GENERATION: 22 BEST: 0.45609612668940175\n",
      "GENERATION: 23 BEST: 0.45609612668940175\n",
      "GENERATION: 24 BEST: 0.46986255411431516\n",
      "GENERATION: 25 BEST: 0.46986255411431516\n",
      "GENERATION: 26 BEST: 0.46986255411431516\n",
      "GENERATION: 27 BEST: 0.46986255411431516\n",
      "GENERATION: 28 BEST: 0.46986255411431516\n",
      "GENERATION: 29 BEST: 0.46986255411431516\n",
      "GENERATION: 30 BEST: 0.6298048123174392\n",
      "GENERATION: 31 BEST: 0.6298048123174392\n",
      "GENERATION: 32 BEST: 0.6298048123174392\n",
      "GENERATION: 33 BEST: 0.6298048123174392\n",
      "GENERATION: 34 BEST: 0.6298048123174392\n",
      "GENERATION: 35 BEST: 0.6298048123174392\n",
      "GENERATION: 36 BEST: 0.6964699873331374\n",
      "GENERATION: 37 BEST: 0.6964699873331374\n",
      "GENERATION: 38 BEST: 0.7038152973829072\n",
      "GENERATION: 39 BEST: 0.8667556682834571\n",
      "GENERATION: 40 BEST: 0.8668236001537891\n"
     ]
    }
   ],
   "source": [
    "while (expected_ret < ACCEPTABLE_RETURN and risk > ACCEPTABLE_RISK) or generation < MAX_GENERATIONS:\n",
    "    mut_prob = random.random()\n",
    "\n",
    "    selected_parents = selection_rank_with_population_replacement_elite(population, elite_size=ELITE_SIZE, new_pop=MIGRATORY_FACTOR)\n",
    "    \n",
    "    crossed_offspring = crossover_operation(population=selected_parents, method=CROSSOVER_METHOD, prob=CROSSOVER_PROBABILITY)\n",
    "    mutated_offspring = mutation_operation(population=crossed_offspring, method=MUTATION_METHOD, prob=mut_prob)\n",
    "\n",
    "    population = crossed_offspring.copy()\n",
    "    historical_inds.extend(population)\n",
    "\n",
    "    best_ind, fit_avg, fit_best, fit_best_ever = stats(population, best_ind, fit_avg, fit_best, fit_best_ever)\n",
    "    expected_ret = best_ind.expected_return()\n",
    "    risk = best_ind.risk()\n",
    "    \n",
    "    generation += 1\n",
    "    print(f\"GENERATION: {generation} BEST: {best_ind.get_sharpe()}\")"
   ],
   "metadata": {
    "collapsed": false,
    "pycharm": {
     "name": "#%%\n"
    }
   }
  },
  {
   "cell_type": "code",
   "execution_count": 40,
   "outputs": [
    {
     "data": {
      "text/plain": "<Figure size 432x288 with 1 Axes>",
      "image/png": "[encoded data removed]"
     },
     "metadata": {
      "needs_background": "light"
     },
     "output_type": "display_data"
    }
   ],
   "source": [
    "plot_stats(fit_avg, fit_best_ever, \"Maximize Sharpe Ratio\")"
   ],
   "metadata": {
    "collapsed": false,
    "pycharm": {
     "name": "#%%\n"
    }
   }
  },
  {
   "cell_type": "code",
   "execution_count": 41,
   "outputs": [],
   "source": [
    "best_ret = max(historical_inds, key=lambda ind: ind.expected_return())\n",
    "low_risk = min(historical_inds, key=lambda ind: ind.risk())"
   ],
   "metadata": {
    "collapsed": false,
    "pycharm": {
     "name": "#%%\n"
    }
   }
  },
  {
   "cell_type": "markdown",
   "source": [
    "### BEST RETURN PORTFOLIO:"
   ],
   "metadata": {
    "collapsed": false,
    "pycharm": {
     "name": "#%% md\n"
    }
   }
  },
  {
   "cell_type": "code",
   "execution_count": 42,
   "outputs": [
    {
     "data": {
      "text/plain": "0.01969497922267416"
     },
     "execution_count": 42,
     "metadata": {},
     "output_type": "execute_result"
    }
   ],
   "source": [
    "best_ret.expected_return()"
   ],
   "metadata": {
    "collapsed": false,
    "pycharm": {
     "name": "#%%\n"
    }
   }
  },
  {
   "cell_type": "code",
   "execution_count": 43,
   "outputs": [
    {
     "data": {
      "text/plain": "array([['LU2132881215']], dtype=object)"
     },
     "execution_count": 43,
     "metadata": {},
     "output_type": "execute_result"
    }
   ],
   "source": [
    "best_ret.universe.columns[best_ret.portfolio_idx].values.reshape(1, len(best_ret.portfolio_idx))"
   ],
   "metadata": {
    "collapsed": false,
    "pycharm": {
     "name": "#%%\n"
    }
   }
  },
  {
   "cell_type": "code",
   "execution_count": 44,
   "outputs": [
    {
     "data": {
      "text/plain": "array([[1]])"
     },
     "execution_count": 44,
     "metadata": {},
     "output_type": "execute_result"
    }
   ],
   "source": [
    "best_ret.portfolio_weights.reshape(1, len(best_ret.portfolio_weights))"
   ],
   "metadata": {
    "collapsed": false,
    "pycharm": {
     "name": "#%%\n"
    }
   }
  },
  {
   "cell_type": "markdown",
   "source": [
    "### BEST SHARPE PORTFOLIO:"
   ],
   "metadata": {
    "collapsed": false,
    "pycharm": {
     "name": "#%% md\n"
    }
   }
  },
  {
   "cell_type": "code",
   "execution_count": 45,
   "outputs": [
    {
     "data": {
      "text/plain": "0.8668236001537891"
     },
     "execution_count": 45,
     "metadata": {},
     "output_type": "execute_result"
    }
   ],
   "source": [
    "best_ind.get_sharpe()"
   ],
   "metadata": {
    "collapsed": false,
    "pycharm": {
     "name": "#%%\n"
    }
   }
  },
  {
   "cell_type": "code",
   "execution_count": 46,
   "outputs": [
    {
     "data": {
      "text/plain": "Index(['LU0234773439', 'LU0284585410', 'LU0167239168'], dtype='object')"
     },
     "execution_count": 46,
     "metadata": {},
     "output_type": "execute_result"
    }
   ],
   "source": [
    "best_ind.universe.columns[best_ind.portfolio_idx]"
   ],
   "metadata": {
    "collapsed": false,
    "pycharm": {
     "name": "#%%\n"
    }
   }
  },
  {
   "cell_type": "code",
   "execution_count": 47,
   "outputs": [
    {
     "data": {
      "text/plain": "array([[9.99205918e-01, 2.41147971e-04, 5.52934086e-04]])"
     },
     "execution_count": 47,
     "metadata": {},
     "output_type": "execute_result"
    }
   ],
   "source": [
    "best_ind.portfolio_weights.reshape(1, len(best_ind.portfolio_weights))"
   ],
   "metadata": {
    "collapsed": false,
    "pycharm": {
     "name": "#%%\n"
    }
   }
  },
  {
   "cell_type": "markdown",
   "source": [
    "### LOWEST RISK PORFOLIO:"
   ],
   "metadata": {
    "collapsed": false,
    "pycharm": {
     "name": "#%% md\n"
    }
   }
  },
  {
   "cell_type": "code",
   "execution_count": 48,
   "outputs": [
    {
     "data": {
      "text/plain": "2.3466468161463103e-05"
     },
     "execution_count": 48,
     "metadata": {},
     "output_type": "execute_result"
    }
   ],
   "source": [
    "low_risk.risk()"
   ],
   "metadata": {
    "collapsed": false,
    "pycharm": {
     "name": "#%%\n"
    }
   }
  },
  {
   "cell_type": "code",
   "execution_count": 49,
   "outputs": [
    {
     "data": {
      "text/plain": "array([['IE00B2Q5LL07']], dtype=object)"
     },
     "execution_count": 49,
     "metadata": {},
     "output_type": "execute_result"
    }
   ],
   "source": [
    "low_risk.universe.columns[low_risk.portfolio_idx].values.reshape(1, len(low_risk.portfolio_idx))"
   ],
   "metadata": {
    "collapsed": false,
    "pycharm": {
     "name": "#%%\n"
    }
   }
  },
  {
   "cell_type": "code",
   "execution_count": 50,
   "outputs": [
    {
     "data": {
      "text/plain": "array([[1]])"
     },
     "execution_count": 50,
     "metadata": {},
     "output_type": "execute_result"
    }
   ],
   "source": [
    "low_risk.portfolio_weights.reshape(1, len(low_risk.portfolio_weights))"
   ],
   "metadata": {
    "collapsed": false,
    "pycharm": {
     "name": "#%%\n"
    }
   }
  },
  {
   "cell_type": "markdown",
   "source": [
    "### EFFICIENT FRONTIER:"
   ],
   "metadata": {
    "collapsed": false,
    "pycharm": {
     "name": "#%% md\n"
    }
   }
  },
  {
   "cell_type": "code",
   "execution_count": 51,
   "outputs": [
    {
     "data": {
      "text/plain": "<Figure size 1440x1080 with 2 Axes>",
      "image/png": "[encoded data removed]"
     },
     "metadata": {
      "needs_background": "light"
     },
     "output_type": "display_data"
    }
   ],
   "source": [
    "ret = list(map(lambda x: x.expected_return(), historical_inds))\n",
    "risk = list(map(lambda x: x.risk(), historical_inds))\n",
    "\n",
    "plot_frontier(risk=risk, ret=ret, lr=low_risk, br=best_ret, bs=best_ind)"
   ],
   "metadata": {
    "collapsed": false,
    "pycharm": {
     "name": "#%%\n"
    }
   }
  }
 ],
 "metadata": {
  "kernelspec": {
   "display_name": "Python 3",
   "language": "python",
   "name": "python3"
  },
  "language_info": {
   "codemirror_mode": {
    "name": "ipython",
    "version": 2
   },
   "file_extension": ".py",
   "mimetype": "text/x-python",
   "name": "python",
   "nbconvert_exporter": "python",
   "pygments_lexer": "ipython2",
   "version": "2.7.6"
  }
 },
 "nbformat": 4,
 "nbformat_minor": 0
}
